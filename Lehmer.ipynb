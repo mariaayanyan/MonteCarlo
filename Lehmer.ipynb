{
  "nbformat": 4,
  "nbformat_minor": 0,
  "metadata": {
    "colab": {
      "provenance": [],
      "collapsed_sections": []
    },
    "kernelspec": {
      "name": "python3",
      "display_name": "Python 3"
    },
    "language_info": {
      "name": "python"
    }
  },
  "cells": [
    {
      "cell_type": "code",
      "execution_count": null,
      "metadata": {
        "colab": {
          "base_uri": "https://localhost:8080/"
        },
        "id": "9qMY7kBiGtPv",
        "outputId": "a6ba51b8-1df0-4d9b-bc5f-540709488bae"
      },
      "outputs": [
        {
          "output_type": "stream",
          "name": "stdout",
          "text": [
            "0.48 < 1.305263157894737 < 1.71  ?  ( a = 0.05 )\n",
            "Uniformity hypothesis can be accepted\n",
            "\n",
            "Testing for randomness...\n",
            "numerator = 101 , denominator = 200\n",
            "k = 2 : OK\n",
            "numerator = 104 , denominator = 600\n",
            "k = 3 : OK\n",
            "numerator = 110 , denominator = 2400\n",
            "k = 4 : OK\n",
            "numerator = 92 , denominator = 12000\n",
            "k = 5 : OK\n",
            "numerator = 90 , denominator = 72000\n",
            "k = 6 : OK\n",
            "numerator = 99 , denominator = 504000\n",
            "k = 7 : OK\n",
            "numerator = 120 , denominator = 4032000\n",
            "k = 8 : OK\n",
            "numerator = 93 , denominator = 36288000\n",
            "k = 9 : OK\n",
            "numerator = 88 , denominator = 362880000\n",
            "k = 10 : OK\n"
          ]
        }
      ],
      "source": [
        "import math\n",
        "\n",
        "N = 100\n",
        "nbin = 20\n",
        "a = 0.05\n",
        "x0 = 17\n",
        "\n",
        "def Lehmer(seed, N): #xi+1 = N1*xi + N2 (mod N3), βi = xi/N3\n",
        "  x_prev = seed\n",
        "  N1 = 18987 \n",
        "  N2  = 32725\n",
        "  N3 = 2**31 - 1\n",
        "\n",
        "  ans = []\n",
        "\n",
        "  for i in range(N):\n",
        "    cur = (N1*x_prev + N2) % N3\n",
        "    ans.append(cur/N3)\n",
        "    x_prev = cur\n",
        "  \n",
        "  return ans\n",
        "\n",
        "def getBinN(num, nbin):\n",
        "  return round(num * nbin - 1.5)\n",
        "\n",
        "def checkUniformity(values):\n",
        "  bins = [0] * nbin\n",
        "\n",
        "  for x in values:\n",
        "    bi = getBinN(x, nbin)\n",
        "    bins[bi] += 1\n",
        "\n",
        "  chi2 = 0\n",
        "  expected = N/nbin\n",
        "  for i in range(nbin):\n",
        "    chi2 += ((expected - bins[i]) ** 2) / expected\n",
        "\n",
        "  chi2_rd = chi2 / (nbin - 1)\n",
        "  \n",
        "  chi2_a = 0.48\n",
        "  chi2_1_a = 1.71\n",
        "\n",
        "  print(chi2_a, \"<\", chi2_rd, \"<\", chi2_1_a, \" ?  ( a =\", a, \")\")\n",
        "\n",
        "  if chi2_rd >= chi2_1_a:\n",
        "    print(\"Uniformity hypothesis rejected\")\n",
        "  elif chi2 > chi2_a:\n",
        "    print(\"Uniformity hypothesis can be accepted\")\n",
        "  else:\n",
        "    print(\"Uniformity hypothesis can be accepted, but need to check for randomness\")\n",
        "\n",
        "def incSubstrCount(values, k):\n",
        "  ans = 0\n",
        "  maxlen = 1\n",
        "\n",
        "  for i in range(1, len(values)):\n",
        "    if values[i] > values[i - 1]:\n",
        "      maxlen += 1\n",
        "    else:\n",
        "      maxlen = 1\n",
        "    if maxlen >= k:\n",
        "      ans += 1\n",
        "\n",
        "  return ans\n",
        "\n",
        "#N/k! should be >> 1\n",
        "def checkRandomness():\n",
        "  ntest = 10\n",
        "  seed = x0\n",
        "  kl = 2 \n",
        "  kr = 11\n",
        "  delta_cf = 2\n",
        "\n",
        "  print()\n",
        "  print(\"Testing for randomness...\")\n",
        "  for k in range(kl, kr):\n",
        "    Ntotal = math.factorial(k) * 10\n",
        "    M = 0\n",
        "    for i in range(ntest):\n",
        "      values = Lehmer(seed, Ntotal)\n",
        "      M += incSubstrCount(values, k)\n",
        "      seed = values[-1]\n",
        "\n",
        "    Pobs = M/(Ntotal * ntest)\n",
        "    Pth = 1 / math.factorial(k)\n",
        "\n",
        "    print(\"numerator =\", M, \", denominator =\", Ntotal * ntest)\n",
        "\n",
        "    delta = Pobs * math.sqrt(1/M + 1/(Ntotal * ntest))\n",
        "\n",
        "    if Pobs - delta_cf * delta < Pth and Pth < Pobs + delta_cf * delta:\n",
        "      print(\"k =\", k, \": OK\")\n",
        "    else:\n",
        "      print(\"k =\", k, \": Failed\")\n",
        "    \n",
        "\n",
        "values = Lehmer(x0, N)\n",
        "checkUniformity(values)\n",
        "checkRandomness()"
      ]
    },
    {
      "cell_type": "markdown",
      "source": [
        " $x_{i + 1} = (18987x{i} + 32725) mod (2^{31} - 1)\\\\x_0 = 17$\n",
        "\n"
      ],
      "metadata": {
        "id": "ZF_2sWRxEbbZ"
      }
    },
    {
      "cell_type": "code",
      "source": [],
      "metadata": {
        "id": "AMjG45e75qbX"
      },
      "execution_count": null,
      "outputs": []
    }
  ]
}